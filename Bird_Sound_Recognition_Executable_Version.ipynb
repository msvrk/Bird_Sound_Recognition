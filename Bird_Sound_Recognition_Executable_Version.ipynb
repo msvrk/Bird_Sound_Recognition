{
 "cells": [
  {
   "cell_type": "code",
   "execution_count": 1,
   "metadata": {
    "id": "1GixxlwRY7HU"
   },
   "outputs": [
    {
     "name": "stdout",
     "output_type": "stream",
     "text": [
      "INFO:tensorflow:Enabling eager execution\n",
      "INFO:tensorflow:Enabling v2 tensorshape\n",
      "INFO:tensorflow:Enabling resource variables\n",
      "INFO:tensorflow:Enabling tensor equality\n",
      "INFO:tensorflow:Enabling control flow v2\n"
     ]
    }
   ],
   "source": [
    "import pandas as pd\n",
    "import numpy as np\n",
    "import requests\n",
    "from pathlib import Path\n",
    "import librosa\n",
    "import librosa.display\n",
    "import matplotlib.pyplot as plt\n",
    "import IPython.display as ipd\n",
    "from pydub import AudioSegment\n",
    "import tensorflow as tf\n",
    "from tensorflow.keras.models import Sequential\n",
    "from tensorflow.keras.layers import Dense,Dropout,Activation,Flatten\n",
    "from tensorflow.keras.optimizers import Adam\n",
    "from sklearn import metrics\n",
    "import os\n",
    "import gc\n",
    "import soundfile as sf\n",
    "from scipy.io.wavfile import write\n",
    "import itertools\n",
    "import tensorflow\n",
    "import keras\n",
    "from sklearn import metrics\n",
    "from sklearn.metrics import confusion_matrix\n",
    "from tensorflow.keras.preprocessing.image import ImageDataGenerator, img_to_array, load_img \n",
    "from tensorflow.keras.models import Sequential \n",
    "from tensorflow.keras import optimizers\n",
    "from tensorflow.keras.preprocessing import image\n",
    "from tensorflow.keras.layers import Dropout, Flatten, Dense  \n",
    "from tensorflow.keras import applications  \n",
    "from tensorflow.keras.utils import to_categorical\n",
    "import matplotlib.pyplot as plt \n",
    "import matplotlib.image as mpimg\n",
    "import math  \n",
    "import datetime\n",
    "import time\n",
    "from time import sleep"
   ]
  },
  {
   "cell_type": "code",
   "execution_count": 2,
   "metadata": {},
   "outputs": [],
   "source": [
    "N_FFT = 1024         \n",
    "HOP_SIZE = 1024       \n",
    "N_MELS = 128            \n",
    "WIN_SIZE = 1024      \n",
    "WINDOW_TYPE = 'hann' \n",
    "FEATURE = 'mel'      \n",
    "FMIN = 1400 "
   ]
  },
  {
   "cell_type": "code",
   "execution_count": 3,
   "metadata": {},
   "outputs": [],
   "source": [
    "#Loading vgg16 model\n",
    "vgg16 = applications.VGG16(include_top=False, weights='imagenet')"
   ]
  },
  {
   "cell_type": "markdown",
   "metadata": {},
   "source": [
    "# Load saved model"
   ]
  },
  {
   "cell_type": "code",
   "execution_count": 4,
   "metadata": {},
   "outputs": [],
   "source": [
    "model = keras.models.load_model('D:/C Drive Documents/Bird_Sound_Recognition/My_Model')"
   ]
  },
  {
   "cell_type": "markdown",
   "metadata": {},
   "source": [
    "# Testing on new images"
   ]
  },
  {
   "cell_type": "code",
   "execution_count": 5,
   "metadata": {},
   "outputs": [],
   "source": [
    "def removeSilence(signal):\n",
    "    return signal[librosa.effects.split(signal)[0][0] : librosa.effects.split(signal)[0][-1]]"
   ]
  },
  {
   "cell_type": "code",
   "execution_count": 6,
   "metadata": {},
   "outputs": [],
   "source": [
    "def mel_spectogram_generator(audio_name,signal,sample_rate,augmentation,target_path):\n",
    "    S = librosa.feature.melspectrogram(y=signal,sr=sample_rate,\n",
    "                                    n_fft=N_FFT,\n",
    "                                    hop_length=HOP_SIZE, \n",
    "                                    n_mels=N_MELS, \n",
    "                                    htk=True, \n",
    "                                    fmin=FMIN, \n",
    "                                    fmax=sample_rate/2) \n",
    "\n",
    "    plt.figure(figsize=(10, 4))\n",
    "    librosa.display.specshow(librosa.power_to_db(S**2,ref=np.max), fmin=FMIN,y_axis='linear')\n",
    "    plt.axis('off')\n",
    "    plt.savefig(target_path + augmentation + audio_name[:-4] + '.png',bbox_inches='tight',transparent=True, pad_inches=0)\n",
    "    plt.clf()\n",
    "    plt.close(\"all\")\n",
    "    gc.collect()\n",
    "    "
   ]
  },
  {
   "cell_type": "code",
   "execution_count": 7,
   "metadata": {},
   "outputs": [],
   "source": [
    "def read_image(file_path):\n",
    "    print(\"[INFO] loading and preprocessing image...\")  \n",
    "    image = load_img(file_path, target_size=(558, 217))  \n",
    "    image = img_to_array(image)  \n",
    "    image = np.expand_dims(image, axis=0)\n",
    "    image /= 255.  \n",
    "    return image"
   ]
  },
  {
   "cell_type": "code",
   "execution_count": 8,
   "metadata": {},
   "outputs": [],
   "source": [
    "def test_single_image(path):\n",
    "    birds = ['AshyPrinia',\n",
    " 'AsianKoel',\n",
    " 'BlackDrongo',\n",
    " 'CommonMyna',\n",
    " 'CommonTailorbird',\n",
    " 'GreaterCoucal',\n",
    " 'GreenBee-eater',\n",
    " 'IndianRobin',\n",
    " 'LaughingDove',\n",
    " 'White-throatedKingfisher']\n",
    "    images = read_image(path)\n",
    "    time.sleep(.5)\n",
    "    bt_prediction = vgg16.predict(images)  \n",
    "    preds = model.predict_proba(bt_prediction)\n",
    "    for idx, bird, x in zip(range(0,10), birds , preds[0]):\n",
    "        print(\"ID: {}, Label: {} {}%\".format(idx, bird, round(x*100,2) ))\n",
    "    print('Final Decision:')\n",
    "    time.sleep(.5)\n",
    "    for x in range(3):\n",
    "        print('.'*(x+1))\n",
    "        time.sleep(.2)\n",
    "    class_predicted = model.predict_classes(bt_prediction)\n",
    "    for idx, bird, x in zip(range(0,10), birds , preds[0]):\n",
    "        if idx == class_predicted[0]:\n",
    "            print(\"ID: {}, Label: {}\".format(class_predicted[0], bird))\n",
    "    return load_img(path)"
   ]
  },
  {
   "cell_type": "code",
   "execution_count": 9,
   "metadata": {},
   "outputs": [],
   "source": [
    "def predict_bird_sound(source_path,file_name, target_path = 'D:/'):\n",
    "    N_FFT = 1024         \n",
    "    HOP_SIZE = 1024       \n",
    "    N_MELS = 128            \n",
    "    WIN_SIZE = 1024      \n",
    "    WINDOW_TYPE = 'hann' \n",
    "    FEATURE = 'mel'      \n",
    "    FMIN = 1400\n",
    "    augmentation = ''\n",
    "\n",
    "    signal, sample_rate = librosa.load(source_path +  file_name,sr = None)\n",
    "    DNsignal = removeSilence(signal)\n",
    "    mel_spectogram_generator(file_name,DNsignal,sample_rate,'',target_path)\n",
    "    path =  target_path  + augmentation + file_name[:-4] + '.png'\n",
    "    test_single_image(path)"
   ]
  },
  {
   "cell_type": "code",
   "execution_count": null,
   "metadata": {},
   "outputs": [
    {
     "name": "stdout",
     "output_type": "stream",
     "text": [
      "BIRD SOUND RECOGNITION APP - By Karthik Mandapaka\n",
      "Welcome\n",
      "Please enter Source path:  D:/\n",
      "Please enter the audio file name:  51bc3f0d84e90b469408fae3c08f42b96b3b9743.mp3\n",
      "Recognizing bird sound\n",
      ".\n",
      "..\n",
      "...\n"
     ]
    },
    {
     "name": "stderr",
     "output_type": "stream",
     "text": [
      "c:\\users\\91836\\appdata\\local\\programs\\python\\python38\\lib\\site-packages\\librosa\\core\\audio.py:165: UserWarning: PySoundFile failed. Trying audioread instead.\n",
      "  warnings.warn(\"PySoundFile failed. Trying audioread instead.\")\n"
     ]
    },
    {
     "name": "stdout",
     "output_type": "stream",
     "text": [
      "[INFO] loading and preprocessing image...\n"
     ]
    },
    {
     "name": "stderr",
     "output_type": "stream",
     "text": [
      "c:\\users\\91836\\appdata\\local\\programs\\python\\python38\\lib\\site-packages\\keras\\engine\\sequential.py:425: UserWarning: `model.predict_proba()` is deprecated and will be removed after 2021-01-01. Please use `model.predict()` instead.\n",
      "  warnings.warn('`model.predict_proba()` is deprecated and '\n"
     ]
    },
    {
     "name": "stdout",
     "output_type": "stream",
     "text": [
      "ID: 0, Label: AshyPrinia 0.33%\n",
      "ID: 1, Label: AsianKoel 7.24%\n",
      "ID: 2, Label: BlackDrongo 0.4%\n",
      "ID: 3, Label: CommonMyna 63.32%\n",
      "ID: 4, Label: CommonTailorbird 27.68%\n",
      "ID: 5, Label: GreaterCoucal 0.13%\n",
      "ID: 6, Label: GreenBee-eater 0.09%\n",
      "ID: 7, Label: IndianRobin 0.29%\n",
      "ID: 8, Label: LaughingDove 0.23%\n",
      "ID: 9, Label: White-throatedKingfisher 0.29%\n",
      "Final Decision:\n",
      ".\n",
      "..\n",
      "...\n"
     ]
    },
    {
     "name": "stderr",
     "output_type": "stream",
     "text": [
      "c:\\users\\91836\\appdata\\local\\programs\\python\\python38\\lib\\site-packages\\keras\\engine\\sequential.py:450: UserWarning: `model.predict_classes()` is deprecated and will be removed after 2021-01-01. Please use instead:* `np.argmax(model.predict(x), axis=-1)`,   if your model does multi-class classification   (e.g. if it uses a `softmax` last-layer activation).* `(model.predict(x) > 0.5).astype(\"int32\")`,   if your model does binary classification   (e.g. if it uses a `sigmoid` last-layer activation).\n",
      "  warnings.warn('`model.predict_classes()` is deprecated and '\n"
     ]
    },
    {
     "name": "stdout",
     "output_type": "stream",
     "text": [
      "ID: 3, Label: CommonMyna\n",
      "Do you want to identify another bird sound?(Enter 1 for Yes or 0 for No)1\n",
      "Please enter Source path:  D:/\n",
      "Please enter the audio file name:  1307-asian_koel_bird-loop__preview.mp3\n",
      "Recognizing bird sound\n",
      ".\n",
      "..\n",
      "...\n",
      "[INFO] loading and preprocessing image...\n",
      "ID: 0, Label: AshyPrinia 0.0%\n",
      "ID: 1, Label: AsianKoel 99.57%\n",
      "ID: 2, Label: BlackDrongo 0.02%\n",
      "ID: 3, Label: CommonMyna 0.06%\n",
      "ID: 4, Label: CommonTailorbird 0.0%\n",
      "ID: 5, Label: GreaterCoucal 0.15%\n",
      "ID: 6, Label: GreenBee-eater 0.0%\n",
      "ID: 7, Label: IndianRobin 0.0%\n",
      "ID: 8, Label: LaughingDove 0.18%\n",
      "ID: 9, Label: White-throatedKingfisher 0.01%\n",
      "Final Decision:\n",
      ".\n",
      "..\n",
      "...\n",
      "ID: 1, Label: AsianKoel\n"
     ]
    }
   ],
   "source": [
    "print(\"BIRD SOUND RECOGNITION APP - By Karthik Mandapaka\")\n",
    "sleep(1)\n",
    "print(\"Welcome\")\n",
    "sleep(2)\n",
    "while(1):\n",
    "    source_path = input(\"Please enter Source path:  \")\n",
    "    sleep(2)\n",
    "    file_name = input(\"Please enter the audio file name:  \")\n",
    "    sleep(2)\n",
    "    print(\"Recognizing bird sound\")\n",
    "    sleep(0.5)\n",
    "    print('.')\n",
    "    sleep(0.5)\n",
    "    print('..')\n",
    "    sleep(0.5)\n",
    "    print('...')\n",
    "    predict_bird_sound(source_path,file_name)\n",
    "    cont = input(\"Do you want to identify another bird sound?(Enter 1 for Yes or 0 for No)\")\n",
    "    if (cont == '0'): break"
   ]
  },
  {
   "cell_type": "code",
   "execution_count": 25,
   "metadata": {
    "scrolled": true
   },
   "outputs": [
    {
     "name": "stdout",
     "output_type": "stream",
     "text": [
      "[INFO] loading and preprocessing image...\n",
      "ID: 0, Label: AshyPrinia 0.11%\n",
      "ID: 1, Label: AsianKoel 0.3%\n",
      "ID: 2, Label: BlackDrongo 0.22%\n",
      "ID: 3, Label: CommonMyna 0.02%\n",
      "ID: 4, Label: CommonTailorbird 2.31%\n",
      "ID: 5, Label: GreaterCoucal 0.22%\n",
      "ID: 6, Label: GreenBee-eater 96.79%\n",
      "ID: 7, Label: IndianRobin 0.01%\n",
      "ID: 8, Label: LaughingDove 0.02%\n",
      "ID: 9, Label: White-throatedKingfisher 0.0%\n",
      "Final Decision:\n",
      ".\n",
      "..\n",
      "...\n",
      "ID: 6, Label: GreenBee-eater\n"
     ]
    }
   ],
   "source": [
    "# predict_bird_sound('D:/C Drive Documents/Bird_Sound_Recognition/Data for each bird/data/xeno-canto-dataset/AsianKoel/','Eudynamys24591.wav','D:/')"
   ]
  }
 ],
 "metadata": {
  "colab": {
   "collapsed_sections": [],
   "name": "Bird Sound Recognition.ipynb",
   "provenance": []
  },
  "kernelspec": {
   "display_name": "Python 3",
   "language": "python",
   "name": "python3"
  },
  "language_info": {
   "codemirror_mode": {
    "name": "ipython",
    "version": 3
   },
   "file_extension": ".py",
   "mimetype": "text/x-python",
   "name": "python",
   "nbconvert_exporter": "python",
   "pygments_lexer": "ipython3",
   "version": "3.8.6"
  }
 },
 "nbformat": 4,
 "nbformat_minor": 1
}
