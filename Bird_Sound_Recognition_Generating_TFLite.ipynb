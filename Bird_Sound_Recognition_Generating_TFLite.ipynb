{
 "cells": [
  {
   "cell_type": "code",
   "execution_count": 9,
   "metadata": {
    "id": "1GixxlwRY7HU",
    "scrolled": true
   },
   "outputs": [],
   "source": [
    "import os\n",
    "import tensorflow as tf\n",
    "import keras\n",
    "import Module as m"
   ]
  },
  {
   "cell_type": "code",
   "execution_count": 16,
   "metadata": {},
   "outputs": [
    {
     "name": "stdout",
     "output_type": "stream",
     "text": [
      "Collecting tflite-support\n",
      "  Downloading tflite_support-0.2.0-cp38-cp38-win_amd64.whl (421 kB)\n",
      "Requirement already satisfied: numpy>=1.16.0 in c:\\users\\91836\\appdata\\local\\programs\\python\\python38\\lib\\site-packages (from tflite-support) (1.19.5)\n",
      "Requirement already satisfied: flatbuffers<2,>=1.12 in c:\\users\\91836\\appdata\\local\\programs\\python\\python38\\lib\\site-packages (from tflite-support) (1.12)\n",
      "Collecting pybind11>=2.6.0\n",
      "  Downloading pybind11-2.8.0-py2.py3-none-any.whl (207 kB)\n",
      "Requirement already satisfied: absl-py>=0.7.0 in c:\\users\\91836\\appdata\\local\\programs\\python\\python38\\lib\\site-packages (from tflite-support) (0.10.0)\n",
      "Requirement already satisfied: six in c:\\users\\91836\\appdata\\local\\programs\\python\\python38\\lib\\site-packages (from absl-py>=0.7.0->tflite-support) (1.15.0)\n",
      "Installing collected packages: pybind11, tflite-support\n",
      "Successfully installed pybind11-2.8.0 tflite-support-0.2.0\n"
     ]
    }
   ],
   "source": [
    "!pip install tflite-support"
   ]
  },
  {
   "cell_type": "code",
   "execution_count": 17,
   "metadata": {},
   "outputs": [
    {
     "data": {
      "text/plain": [
       "'D:\\\\C Drive Documents\\\\Bird_Sound_Recognition'"
      ]
     },
     "execution_count": 17,
     "metadata": {},
     "output_type": "execute_result"
    }
   ],
   "source": [
    "os.getcwd()"
   ]
  },
  {
   "cell_type": "code",
   "execution_count": 18,
   "metadata": {},
   "outputs": [],
   "source": [
    "import metadata_generator as mg"
   ]
  },
  {
   "cell_type": "markdown",
   "metadata": {},
   "source": [
    "# Load saved model"
   ]
  },
  {
   "cell_type": "code",
   "execution_count": 10,
   "metadata": {},
   "outputs": [],
   "source": [
    "model = keras.models.load_model('D:/C Drive Documents/Bird_Sound_Recognition/My_Model')"
   ]
  },
  {
   "cell_type": "markdown",
   "metadata": {},
   "source": [
    "# Creating H5 model file"
   ]
  },
  {
   "cell_type": "code",
   "execution_count": 11,
   "metadata": {},
   "outputs": [],
   "source": [
    "KERAS_MODEL_NAME = \"tf_model_bird_sound.h5\"\n",
    "model.save(KERAS_MODEL_NAME)"
   ]
  },
  {
   "cell_type": "markdown",
   "metadata": {},
   "source": [
    "# Creating TFLite model from H5 file"
   ]
  },
  {
   "cell_type": "code",
   "execution_count": 12,
   "metadata": {},
   "outputs": [
    {
     "name": "stdout",
     "output_type": "stream",
     "text": [
      "INFO:tensorflow:Assets written to: C:\\Users\\91836\\AppData\\Local\\Temp\\tmph7k33ywu\\assets\n"
     ]
    },
    {
     "name": "stderr",
     "output_type": "stream",
     "text": [
      "INFO:tensorflow:Assets written to: C:\\Users\\91836\\AppData\\Local\\Temp\\tmph7k33ywu\\assets\n"
     ]
    },
    {
     "data": {
      "text/plain": [
       "20895756"
      ]
     },
     "execution_count": 12,
     "metadata": {},
     "output_type": "execute_result"
    }
   ],
   "source": [
    "TF_LITE_MODEL_FILE_NAME = \"tf_lite_model.tflite\"\n",
    "tf_lite_converter = tf.lite.TFLiteConverter.from_keras_model(model)\n",
    "tflite_model = tf_lite_converter.convert()\n",
    "tflite_model_name = TF_LITE_MODEL_FILE_NAME\n",
    "open(tflite_model_name, \"wb\").write(tflite_model)"
   ]
  },
  {
   "cell_type": "code",
   "execution_count": 21,
   "metadata": {},
   "outputs": [
    {
     "ename": "TypeError",
     "evalue": "create_for_inference() missing 3 required positional arguments: 'sample_rate', 'channels', and 'label_file_paths'",
     "output_type": "error",
     "traceback": [
      "\u001b[1;31m---------------------------------------------------------------------------\u001b[0m",
      "\u001b[1;31mTypeError\u001b[0m                                 Traceback (most recent call last)",
      "\u001b[1;32m<ipython-input-21-04ef3797a60e>\u001b[0m in \u001b[0;36m<module>\u001b[1;34m\u001b[0m\n\u001b[1;32m----> 1\u001b[1;33m \u001b[0mmg\u001b[0m\u001b[1;33m.\u001b[0m\u001b[0mMetadataWriter\u001b[0m\u001b[1;33m.\u001b[0m\u001b[0mcreate_for_inference\u001b[0m\u001b[1;33m(\u001b[0m\u001b[0mmodel\u001b[0m\u001b[1;33m)\u001b[0m\u001b[1;33m\u001b[0m\u001b[1;33m\u001b[0m\u001b[0m\n\u001b[0m",
      "\u001b[1;31mTypeError\u001b[0m: create_for_inference() missing 3 required positional arguments: 'sample_rate', 'channels', and 'label_file_paths'"
     ]
    }
   ],
   "source": [
    "mg.MetadataWriter.create_for_inference(model)"
   ]
  }
 ],
 "metadata": {
  "colab": {
   "collapsed_sections": [],
   "name": "Bird Sound Recognition.ipynb",
   "provenance": []
  },
  "kernelspec": {
   "display_name": "Python 3",
   "language": "python",
   "name": "python3"
  },
  "language_info": {
   "codemirror_mode": {
    "name": "ipython",
    "version": 3
   },
   "file_extension": ".py",
   "mimetype": "text/x-python",
   "name": "python",
   "nbconvert_exporter": "python",
   "pygments_lexer": "ipython3",
   "version": "3.8.6"
  }
 },
 "nbformat": 4,
 "nbformat_minor": 1
}
